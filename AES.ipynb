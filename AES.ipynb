{
 "cells": [
  {
   "cell_type": "code",
   "execution_count": 4,
   "metadata": {},
   "outputs": [],
   "source": [
    "import hashlib\n",
    "from Crypto import Random\n",
    "from Crypto.Cipher import AES\n",
    "from base64 import b64encode, b64decode\n",
    "import os\n",
    "import os.path\n",
    "from os import listdir\n",
    "from os.path import isfile, join\n",
    "import time"
   ]
  },
  {
   "cell_type": "code",
   "execution_count": 20,
   "metadata": {},
   "outputs": [],
   "source": [
    "class Encryptor:\n",
    "    def __init__(self, key):\n",
    "        self.key = key\n",
    "\n",
    "    def pad(self, s):\n",
    "        return s + b\"\\0\" * (AES.block_size - len(s) % AES.block_size)\n",
    "\n",
    "    def encrypt(self, message, key, key_size=256):\n",
    "        message = self.pad(message)\n",
    "        iv = Random.new().read(AES.block_size)\n",
    "        cipher = AES.new(key, AES.MODE_CBC, iv)\n",
    "        return iv + cipher.encrypt(message)\n",
    "\n",
    "    def encrypt_file(self, file_name):\n",
    "        with open(file_name, 'rb') as fo:\n",
    "            plaintext = fo.read()\n",
    "        enc = self.encrypt(plaintext, self.key)\n",
    "        with open(file_name + \".enc\", 'wb') as fo:\n",
    "            fo.write(enc)\n",
    "        os.remove(file_name)\n",
    "\n",
    "    def decrypt(self, ciphertext, key):\n",
    "        iv = ciphertext[:AES.block_size]\n",
    "        cipher = AES.new(key, AES.MODE_CBC, iv)\n",
    "        plaintext = cipher.decrypt(ciphertext[AES.block_size:])\n",
    "        return plaintext.rstrip(b\"\\0\")\n",
    "\n",
    "    def decrypt_file(self, file_name):\n",
    "        with open(file_name, 'rb') as fo:\n",
    "            ciphertext = fo.read()\n",
    "        dec = self.decrypt(ciphertext, self.key)\n",
    "        with open(file_name[:-4], 'wb') as fo:\n",
    "            fo.write(dec)\n",
    "        os.remove(file_name)"
   ]
  },
  {
   "cell_type": "code",
   "execution_count": null,
   "metadata": {},
   "outputs": [],
   "source": []
  },
  {
   "cell_type": "code",
   "execution_count": 21,
   "metadata": {},
   "outputs": [],
   "source": [
    "def convertFile(file_name, choice):\n",
    "    key = b'[EX\\xc8\\xd5\\xbfI{\\xa2$\\x05(\\xd5\\x18\\xbf\\xc0\\x85)\\x10nc\\x94\\x02)j\\xdf\\xcb\\xc4\\x94\\x9d(\\x9e'\n",
    "    enc = Encryptor(key)\n",
    "\n",
    "    if choice == 1:\n",
    "        enc.encrypt_file(file_name)\n",
    "    elif choice == 2:\n",
    "        enc.decrypt_file(file_name) "
   ]
  },
  {
   "cell_type": "code",
   "execution_count": 23,
   "metadata": {},
   "outputs": [],
   "source": [
    "convertFile(\"static/pic1.jpg.enc\",2)"
   ]
  },
  {
   "cell_type": "code",
   "execution_count": null,
   "metadata": {},
   "outputs": [],
   "source": []
  }
 ],
 "metadata": {
  "kernelspec": {
   "display_name": "Python 3",
   "language": "python",
   "name": "python3"
  },
  "language_info": {
   "codemirror_mode": {
    "name": "ipython",
    "version": 3
   },
   "file_extension": ".py",
   "mimetype": "text/x-python",
   "name": "python",
   "nbconvert_exporter": "python",
   "pygments_lexer": "ipython3",
   "version": "3.7.3"
  }
 },
 "nbformat": 4,
 "nbformat_minor": 2
}
